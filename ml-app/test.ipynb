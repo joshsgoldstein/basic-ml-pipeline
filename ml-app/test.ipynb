{
 "cells": [
  {
   "cell_type": "code",
   "execution_count": 9,
   "metadata": {},
   "outputs": [],
   "source": [
    "# test that our model works\n",
    "from BasicModel import BasicModel\n",
    "from sklearn.model_selection import train_test_split\n"
   ]
  },
  {
   "cell_type": "code",
   "execution_count": 10,
   "metadata": {},
   "outputs": [],
   "source": [
    "import pandas as pd \n",
    "import requests \n",
    "\n",
    "df = pd.read_csv(\"../experiments/mlflow/kc_house_data.csv\")\n",
    "\n",
    "# choose features\n",
    "features = [\"bedrooms\",\"bathrooms\",\"sqft_living\",\"sqft_above\",\"grade\",\n",
    "            \"floors\",\"view\",'sqft_lot','floors','waterfront','zipcode'] \n",
    "\n",
    "# getting those features from the dataframe\n",
    "x = df[features]\n",
    "y = df[\"price\"]\n",
    "\n",
    "# splits data into 80% train 20% test\n",
    "x_train, x_test, y_train, y_test = train_test_split(x, y, train_size=0.7, \n",
    "                                                    random_state=3)\n",
    "\n",
    "single_prediction_numpy = x_train.iloc[1].to_numpy()\n",
    "\n",
    "\n",
    "# row"
   ]
  },
  {
   "cell_type": "code",
   "execution_count": 11,
   "metadata": {},
   "outputs": [
    {
     "name": "stdout",
     "output_type": "stream",
     "text": [
      "Initialising\n",
      "Predict called\n",
      "[549219.5]\n"
     ]
    },
    {
     "name": "stderr",
     "output_type": "stream",
     "text": [
      "/Users/josh/opt/anaconda3/envs/data-science/lib/python3.9/site-packages/sklearn/base.py:310: UserWarning: Trying to unpickle estimator DecisionTreeRegressor from version 1.1.1 when using version 0.24.2. This might lead to breaking code or invalid results. Use at your own risk.\n",
      "  warnings.warn(\n",
      "/Users/josh/opt/anaconda3/envs/data-science/lib/python3.9/site-packages/sklearn/base.py:310: UserWarning: Trying to unpickle estimator RandomForestRegressor from version 1.1.1 when using version 0.24.2. This might lead to breaking code or invalid results. Use at your own risk.\n",
      "  warnings.warn(\n"
     ]
    }
   ],
   "source": [
    "print(BasicModel().predict(single_prediction_numpy.reshape(1, -1),[\"feature_name\"]))"
   ]
  },
  {
   "cell_type": "code",
   "execution_count": null,
   "metadata": {},
   "outputs": [],
   "source": []
  }
 ],
 "metadata": {
  "interpreter": {
   "hash": "a64daf48265175ab4f9e3b4f218504d1fb45289ba63ff66be172e6ba46f72957"
  },
  "kernelspec": {
   "display_name": "Python 3.9.7 ('data-science')",
   "language": "python",
   "name": "python3"
  },
  "language_info": {
   "codemirror_mode": {
    "name": "ipython",
    "version": 3
   },
   "file_extension": ".py",
   "mimetype": "text/x-python",
   "name": "python",
   "nbconvert_exporter": "python",
   "pygments_lexer": "ipython3",
   "version": "3.9.7"
  },
  "orig_nbformat": 4
 },
 "nbformat": 4,
 "nbformat_minor": 2
}
