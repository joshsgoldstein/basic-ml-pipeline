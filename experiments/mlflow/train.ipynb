{
 "cells": [
  {
   "cell_type": "code",
   "execution_count": 1,
   "metadata": {},
   "outputs": [],
   "source": [
    "import pandas as pd\n",
    "import mlflow\n",
    "import mlflow.sklearn\n",
    "from sklearn.model_selection import train_test_split\n",
    "from sklearn.ensemble import RandomForestRegressor"
   ]
  },
  {
   "cell_type": "code",
   "execution_count": 13,
   "metadata": {},
   "outputs": [
    {
     "name": "stdout",
     "output_type": "stream",
     "text": [
      "(11,)\n",
      "{'train_score': 0.9732255765943617, 'test_score': 0.8243108972698326}\n"
     ]
    }
   ],
   "source": [
    "df = pd.read_csv(\"kc_house_data.csv\") \n",
    "\n",
    "# choose features\n",
    "features = [\"bedrooms\",\"bathrooms\",\"sqft_living\",\"sqft_above\",\"grade\",\n",
    "            \"floors\",\"view\",'sqft_lot','floors','waterfront','zipcode'] \n",
    "\n",
    "# getting those features from the dataframe\n",
    "x = df[features]\n",
    "y = df[\"price\"]\n",
    "\n",
    "# splits data into 80% train 20% test\n",
    "x_train, x_test, y_train, y_test = train_test_split(x, y, train_size=0.7, \n",
    "                                                    random_state=3)\n",
    "\n",
    "print(x_train.iloc[2].shape)\n",
    "# choose model with settings\n",
    "model = RandomForestRegressor(n_estimators=100) \n",
    "model.fit(x_train, y_train)\n",
    "\n",
    "# define and print\n",
    "metrics = {\"train_score\": model.score(x_train, y_train), \n",
    "\"test_score\": model.score(x_test, y_test)}\n",
    "print(metrics)"
   ]
  },
  {
   "cell_type": "code",
   "execution_count": 20,
   "metadata": {},
   "outputs": [
    {
     "data": {
      "text/plain": [
       "535000.0"
      ]
     },
     "execution_count": 20,
     "metadata": {},
     "output_type": "execute_result"
    }
   ],
   "source": [
    "\n",
    "y_train.iloc[1]\n"
   ]
  },
  {
   "cell_type": "code",
   "execution_count": 21,
   "metadata": {},
   "outputs": [
    {
     "name": "stdout",
     "output_type": "stream",
     "text": [
      "[549002.]\n",
      "[[3.0000e+00 2.5000e+00 2.5100e+03 2.5100e+03 7.0000e+00 2.0000e+00\n",
      "  0.0000e+00 5.5440e+03 2.0000e+00 0.0000e+00 9.8053e+04]]\n"
     ]
    },
    {
     "name": "stderr",
     "output_type": "stream",
     "text": [
      "/Users/josh/opt/anaconda3/envs/data-science/lib/python3.9/site-packages/sklearn/base.py:450: UserWarning: X does not have valid feature names, but RandomForestRegressor was fitted with feature names\n",
      "  warnings.warn(\n"
     ]
    }
   ],
   "source": [
    "single_prediction_numpy = x_train.iloc[1].to_numpy()\n",
    "print(model.predict(single_prediction_numpy.reshape(1, -1)))\n",
    "print(single_prediction_numpy.reshape(1, -1))"
   ]
  },
  {
   "cell_type": "code",
   "execution_count": 5,
   "metadata": {},
   "outputs": [
    {
     "data": {
      "text/plain": [
       "pandas.core.frame.DataFrame"
      ]
     },
     "execution_count": 5,
     "metadata": {},
     "output_type": "execute_result"
    }
   ],
   "source": [
    "type(x_test)"
   ]
  },
  {
   "cell_type": "code",
   "execution_count": null,
   "metadata": {},
   "outputs": [],
   "source": [
    "[\n",
    "    [3.0000e+00 2.5000e+00 2.5100e+03 2.5100e+03 7.0000e+00 2.0000e+00\n",
    "  0.0000e+00 5.5440e+03 2.0000e+00 0.0000e+00 9.8053e+04]\n",
    "]"
   ]
  }
 ],
 "metadata": {
  "interpreter": {
   "hash": "a64daf48265175ab4f9e3b4f218504d1fb45289ba63ff66be172e6ba46f72957"
  },
  "kernelspec": {
   "display_name": "Python 3.9.7 ('data-science')",
   "language": "python",
   "name": "python3"
  },
  "language_info": {
   "codemirror_mode": {
    "name": "ipython",
    "version": 3
   },
   "file_extension": ".py",
   "mimetype": "text/x-python",
   "name": "python",
   "nbconvert_exporter": "python",
   "pygments_lexer": "ipython3",
   "version": "3.9.7"
  },
  "orig_nbformat": 4
 },
 "nbformat": 4,
 "nbformat_minor": 2
}
